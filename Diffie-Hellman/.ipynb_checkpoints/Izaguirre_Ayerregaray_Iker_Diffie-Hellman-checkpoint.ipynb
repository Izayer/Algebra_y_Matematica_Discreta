{
 "cells": [
  {
   "cell_type": "markdown",
   "metadata": {},
   "source": [
    "# Diffie-Hellman\n",
    "\n",
    "El intercambio de claves **Diffie – Hellman (DH)** es un método de intercambio seguro de claves criptográficas a través de un canal público y fue uno de los primeros protocolos de clave pública. Fue conceptualizado originalmente por [Ralph Merkle](https://es.wikipedia.org/wiki/Ralph_Merkle) y el protocolo se llama así en honor a [Whitfield Diffie](https://es.wikipedia.org/wiki/Whitfield_Diffie) y [Martin Hellman](https://es.wikipedia.org/wiki/Martin_Hellman).\n",
    "\n",
    "DH es uno de los primeros ejemplos prácticos de intercambio de claves públicas implementado en el campo de la criptografía. Hoy, DH se utiliza para todo tipo de aplicaciones como *Proton Mail* y *SSH*. Un software gratuito de cifrado de archivos que utiliza DH es *GPG*."
   ]
  },
  {
   "cell_type": "markdown",
   "metadata": {},
   "source": [
    "## El problema en el cifrado de extremo a extremo\n",
    "\n",
    "Pensemos en una situación súper simple. Imagina que Elena y yo decidimos intercambiar información. Ahora, digamos que un hacker llamado A. Corbi, está tratando de interceptar nuestro mensaje.\n",
    "\n",
    "![Texto Plano](https://alumnosunir-my.sharepoint.com/personal/iker_izaguirre724_comunidadunir_net/Documents/Curso1/Cuatrimestre1/Algebra_y_Matematica_Discreta_GII__PER1048_20192020/Actividades/Diffie-Hellman/Images/Diffie-Hellman_1.png)"
   ]
  },
  {
   "cell_type": "markdown",
   "metadata": {},
   "source": [
    "Una forma lógica de evitar que A. Corbi lea nuestro mensaje es mediante el cifrado. En el cifrado, se supone que incluso si se conoce el sistema de cifrado, el mensaje no se puede descifrar sin la clave de cifrado. Por lo tanto, siempre que Elena y yo usemos el mismo método de cifrado y tengamos la misma clave, ¡estamos listos para comenzar! Sin embargo, hay un problema ..."
   ]
  },
  {
   "cell_type": "markdown",
   "metadata": {},
   "source": [
    "![Llave de cifrado](https://alumnosunir-my.sharepoint.com/personal/iker_izaguirre724_comunidadunir_net/Documents/Curso1/Cuatrimestre1/Algebra_y_Matematica_Discreta_GII__PER1048_20192020/Actividades/Diffie-Hellman/Images/Diffie-Hellman_2.png)"
   ]
  },
  {
   "cell_type": "markdown",
   "metadata": {},
   "source": [
    "Para que yo pueda descifrar el mensaje cifrado de Elena, necesito que me envíe la clave a través de la red. El problema es que el Sr. Corbi está buscando la llave. Si obtiene acceso a la clave, ¡puede descifrar fácilmente todos nuestros mensajes! Este problema de intercambio de claves es abordado por el algoritmo Diffie-Hellman."
   ]
  },
  {
   "cell_type": "markdown",
   "metadata": {},
   "source": [
    "## ¿Cómo se resuelve el problema con Diffie-Hellman?"
   ]
  },
  {
   "cell_type": "markdown",
   "metadata": {},
   "source": [
    "Diffie-Hellman funciona según el principio de no compartir completamente la clave de cifrado a través del medio. En cambio, cada parte consta de una clave pública (que todos pueden ver, incluido Mr. Corbi) y una clave privada (solo el usuario del punto final puede ver). Yo no tengo acceso a la clave privada de Elena. Elena tampoco tiene acceso a mi clave privada.\n",
    "\n",
    "Si Elena y yo queremos intercambiar una clave de forma segura, primero tenemos que ponernos de acuerdo en un número **primo** `p = 761` y un `g = 6` que sea **raíz primitiva** respecto a p."
   ]
  },
  {
   "cell_type": "markdown",
   "metadata": {},
   "source": [
    "### El protocolo es el siguiente"
   ]
  },
  {
   "cell_type": "markdown",
   "metadata": {},
   "source": [
    "> Primero debo calcular un número entero grande x aleatoriamente ( que no debo mostrar) y calcular:\n",
    "\n",
    "$$ (X = g^x) mod p $$"
   ]
  },
  {
   "cell_type": "markdown",
   "metadata": {},
   "source": [
    "En criptología es importante poder calcular de manera eficiente $ b^n $ mod $ m $, donde $b, n$ y $m$ son enteros grandes. No es práctico calcular primero $b^n$ y posteriormente hallar el resto de dividirlo por $m$ porque $b^n$ puede ser un número excesivamente grande. En lugar de esto, podemos usar un algoritmo que emplea la expresión binaria del exponente $n$, es decir, $n = (a_{k-1}a_{k-2} ... a_1a_0)$"
   ]
  },
  {
   "cell_type": "markdown",
   "metadata": {},
   "source": [
    "Definimos el método **mod_exp** que nos devolvera el módulo"
   ]
  },
  {
   "cell_type": "code",
   "execution_count": 1,
   "metadata": {},
   "outputs": [],
   "source": [
    "def mod_exp(b: int, e: int, p: int) -> int:\n",
    "    x: int\n",
    "    power: int\n",
    "    x = 1\n",
    "    power = b % p\n",
    "\n",
    "    while e:\n",
    "\n",
    "        if (e & 1):\n",
    "            x = (x * power) % p\n",
    "\n",
    "        e >>= 1\n",
    "        power = (power * power) % p\n",
    "\n",
    "    return x"
   ]
  },
  {
   "cell_type": "markdown",
   "metadata": {},
   "source": [
    "Ahora podemos calcular el número X"
   ]
  },
  {
   "cell_type": "code",
   "execution_count": 2,
   "metadata": {},
   "outputs": [
    {
     "data": {
      "text/plain": [
       "1908282441376654977827044509922462722824539427932940732511220759593829778682806146584150691815177596"
      ]
     },
     "execution_count": 2,
     "metadata": {},
     "output_type": "execute_result"
    }
   ],
   "source": [
    "import random\n",
    "random.randint(1, 10**100)\n",
    "# Entero aleatorio de Iker\n",
    "# 9979219203731601911928975844281701173308623973473067026329084015674262449505355025435932129284870203\n",
    "# Entero aleatorio de Elena\n",
    "# 7088383412973965963172339874534569047505976494686124697935777470950518994119586399903473171323486681"
   ]
  },
  {
   "cell_type": "code",
   "execution_count": 3,
   "metadata": {},
   "outputs": [
    {
     "data": {
      "text/plain": [
       "587"
      ]
     },
     "execution_count": 3,
     "metadata": {},
     "output_type": "execute_result"
    }
   ],
   "source": [
    "mod_exp(6,9979219203731601911928975844281701173308623973473067026329084015674262449505355025435932129284870203,761)"
   ]
  },
  {
   "cell_type": "markdown",
   "metadata": {},
   "source": [
    "$$ (587 = 6^{9979219203731601911928975844281701173308623973473067026329084015674262449505355025435932129284870203}) mod 761 $$"
   ]
  },
  {
   "cell_type": "markdown",
   "metadata": {},
   "source": [
    "> Repetimos el mismo paso para Elena:"
   ]
  },
  {
   "cell_type": "code",
   "execution_count": 4,
   "metadata": {},
   "outputs": [
    {
     "data": {
      "text/plain": [
       "151"
      ]
     },
     "execution_count": 4,
     "metadata": {},
     "output_type": "execute_result"
    }
   ],
   "source": [
    "mod_exp(6,7088383412973965963172339874534569047505976494686124697935777470950518994119586399903473171323486681,761)"
   ]
  },
  {
   "cell_type": "markdown",
   "metadata": {},
   "source": [
    "$$ (151 = 6^{7088383412973965963172339874534569047505976494686124697935777470950518994119586399903473171323486681}) mod 761 $$"
   ]
  },
  {
   "cell_type": "code",
   "execution_count": null,
   "metadata": {},
   "outputs": [],
   "source": []
  }
 ],
 "metadata": {
  "kernelspec": {
   "display_name": "Python 3",
   "language": "python",
   "name": "python3"
  },
  "language_info": {
   "codemirror_mode": {
    "name": "ipython",
    "version": 3
   },
   "file_extension": ".py",
   "mimetype": "text/x-python",
   "name": "python",
   "nbconvert_exporter": "python",
   "pygments_lexer": "ipython3",
   "version": "3.7.4"
  }
 },
 "nbformat": 4,
 "nbformat_minor": 2
}
