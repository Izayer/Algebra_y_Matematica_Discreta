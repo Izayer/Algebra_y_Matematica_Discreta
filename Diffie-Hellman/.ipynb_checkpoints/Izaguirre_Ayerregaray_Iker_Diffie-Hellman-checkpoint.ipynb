{
 "cells": [
  {
   "cell_type": "markdown",
   "metadata": {},
   "source": [
    "# Diffie-Hellman\n",
    "\n",
    "El intercambio de claves **Diffie – Hellman (DH)** es un método de intercambio seguro de claves criptográficas a través de un canal público y fue uno de los primeros protocolos de clave pública. Fue conceptualizado originalmente por [Ralph Merkle](https://es.wikipedia.org/wiki/Ralph_Merkle) y el protocolo se llama así en honor a [Whitfield Diffie](https://es.wikipedia.org/wiki/Whitfield_Diffie) y [Martin Hellman](https://es.wikipedia.org/wiki/Martin_Hellman).\n",
    "\n",
    "DH es uno de los primeros ejemplos prácticos de intercambio de claves públicas implementado en el campo de la criptografía. Hoy, DH se utiliza para todo tipo de aplicaciones como *Proton Mail* y *SSH*. Un software gratuito de cifrado de archivos que utiliza DH es *GPG*."
   ]
  },
  {
   "cell_type": "markdown",
   "metadata": {},
   "source": [
    "## El problema en el cifrado de extremo a extremo\n",
    "\n",
    "Pensemos en una situación súper simple. Imagina que Elena y yo decidimos intercambiar información. Ahora, digamos que un hacker llamado A. Corbi, está tratando de interceptar nuestro mensaje.\n",
    "\n",
    "![Texto Plano](Images/Diffie-Hellman_1.png)"
   ]
  },
  {
   "cell_type": "markdown",
   "metadata": {},
   "source": [
    "Una forma lógica de evitar que A. Corbi lea nuestro mensaje es mediante el cifrado. En el cifrado, se supone que incluso si se conoce el sistema de cifrado, el mensaje no se puede descifrar sin la clave de cifrado. Por lo tanto, siempre que Elena y yo usemos el mismo método de cifrado y tengamos la misma clave, ¡estamos listos para comenzar! Sin embargo, hay un problema ..."
   ]
  },
  {
   "cell_type": "markdown",
   "metadata": {},
   "source": [
    "![Llave de cifrado](Images/Diffie-Hellman_2.png)"
   ]
  },
  {
   "cell_type": "markdown",
   "metadata": {},
   "source": [
    "Para que yo pueda descifrar el mensaje cifrado de Elena, necesito que me envíe la clave a través de la red. El problema es que el Sr. Corbi está buscando la llave. Si obtiene acceso a la clave, ¡puede descifrar fácilmente todos nuestros mensajes! Este problema de intercambio de claves es abordado por el algoritmo Diffie-Hellman."
   ]
  },
  {
   "cell_type": "markdown",
   "metadata": {},
   "source": [
    "## ¿Cómo se resuelve el problema con Diffie-Hellman?"
   ]
  },
  {
   "cell_type": "markdown",
   "metadata": {},
   "source": [
    "Diffie-Hellman funciona según el principio de no compartir completamente la clave de cifrado a través del medio. En cambio, cada parte consta de una clave pública (que todos pueden ver, incluido Mr. Corbi) y una clave privada (solo el usuario del punto final puede ver). Yo no tengo acceso a la clave privada de Elena. Elena tampoco tiene acceso a mi clave privada.\n",
    "\n",
    "Si Elena y yo queremos intercambiar una clave de forma segura, primero tenemos que ponernos de acuerdo en un número **primo** `p = 761` y un `g = 6` que sea **raíz primitiva** respecto a p."
   ]
  },
  {
   "cell_type": "code",
   "execution_count": 1,
   "metadata": {
    "scrolled": true
   },
   "outputs": [],
   "source": [
    "p: int = 761\n",
    "g: int = 6"
   ]
  },
  {
   "cell_type": "markdown",
   "metadata": {},
   "source": [
    "### El protocolo es el siguiente"
   ]
  },
  {
   "cell_type": "markdown",
   "metadata": {},
   "source": [
    "> Primero debo calcular un número entero grande x aleatoriamente ( que no debo mostrar) y calcular:\n",
    "\n",
    "$$ (X = g^x) mod p $$"
   ]
  },
  {
   "cell_type": "markdown",
   "metadata": {},
   "source": [
    "En criptología es importante poder calcular de manera eficiente $ b^n $ mod $ m $, donde $b, n$ y $m$ son enteros grandes. No es práctico calcular primero $b^n$ y posteriormente hallar el resto de dividirlo por $m$ porque $b^n$ puede ser un número excesivamente grande. En lugar de esto, podemos usar un algoritmo que emplea la expresión binaria del exponente $n$, es decir, $n = (a_{k-1}a_{k-2} ... a_1a_0)$"
   ]
  },
  {
   "cell_type": "markdown",
   "metadata": {},
   "source": [
    "Definimos el método **mod_exp** que nos devolvera el módulo"
   ]
  },
  {
   "cell_type": "code",
   "execution_count": 2,
   "metadata": {},
   "outputs": [],
   "source": [
    "def mod_exp(b: int, e: int, p: int) -> int:\n",
    "    x: int\n",
    "    power: int\n",
    "    x = 1\n",
    "    power = b % p\n",
    "\n",
    "    while e:\n",
    "\n",
    "        if (e & 1):\n",
    "            x = (x * power) % p\n",
    "\n",
    "        e >>= 1\n",
    "        power = (power * power) % p\n",
    "\n",
    "    return x"
   ]
  },
  {
   "cell_type": "markdown",
   "metadata": {},
   "source": [
    "Ahora podemos calcular el número X"
   ]
  },
  {
   "cell_type": "code",
   "execution_count": 3,
   "metadata": {},
   "outputs": [],
   "source": [
    "import random\n",
    "random.randint(1, 10**100)\n",
    "\n",
    "# randomIker: int = random.randint(1, 10**100)\n",
    "# randomElena: int = random.randint(1, 10**100)\n",
    "\n",
    "# Entero aleatorio de Iker\n",
    "# 9979219203731601911928975844281701173308623973473067026329084015674262449505355025435932129284870203\n",
    "randomIker: int = 9979219203731601911928975844281701173308623973473067026329084015674262449505355025435932129284870203\n",
    "# Entero aleatorio de Elena\n",
    "# 7088383412973965963172339874534569047505976494686124697935777470950518994119586399903473171323486681\n",
    "randomElena: int = 7088383412973965963172339874534569047505976494686124697935777470950518994119586399903473171323486681"
   ]
  },
  {
   "cell_type": "code",
   "execution_count": 4,
   "metadata": {},
   "outputs": [],
   "source": [
    "xIker:int = mod_exp(g, randomIker, p)"
   ]
  },
  {
   "cell_type": "markdown",
   "metadata": {},
   "source": [
    "$$ (587 = 6^{9979219203731601911928975844281701173308623973473067026329084015674262449505355025435932129284870203}) mod 761 $$"
   ]
  },
  {
   "cell_type": "markdown",
   "metadata": {},
   "source": [
    "> Repetimos el mismo paso para Elena:"
   ]
  },
  {
   "cell_type": "code",
   "execution_count": 5,
   "metadata": {},
   "outputs": [],
   "source": [
    "yElena:int = mod_exp(g, randomElena, p)"
   ]
  },
  {
   "cell_type": "markdown",
   "metadata": {},
   "source": [
    "$$ (151 = 6^{7088383412973965963172339874534569047505976494686124697935777470950518994119586399903473171323486681}) mod 761 $$"
   ]
  },
  {
   "cell_type": "markdown",
   "metadata": {},
   "source": [
    "Llega el momento de intercambiar las claves generadas. El Man In The Midle pensará que serán útiles para él."
   ]
  },
  {
   "cell_type": "markdown",
   "metadata": {},
   "source": [
    "![Intercambio de llaves](Images/Diffie-Hellman_3.png)"
   ]
  },
  {
   "cell_type": "markdown",
   "metadata": {},
   "source": [
    "### Generar la llave completa"
   ]
  },
  {
   "cell_type": "markdown",
   "metadata": {},
   "source": [
    "> Es el momento de crear la llave que tendremos en común Elena y yo. Para Ello tenemos que calcular:\n",
    "\n",
    "$$ (K = Y^x) mod p \\quad | \\quad (K^{'} = X^y) mod p $$"
   ]
  },
  {
   "cell_type": "code",
   "execution_count": 6,
   "metadata": {},
   "outputs": [
    {
     "name": "stdout",
     "output_type": "stream",
     "text": [
      "Comparten la misma llave 102\n"
     ]
    }
   ],
   "source": [
    "kIker = mod_exp(yElena, randomIker, p)\n",
    "kElena = mod_exp(xIker, randomElena, p)\n",
    "\n",
    "if (kIker == kElena):\n",
    "    print(\"Comparten la misma llave\", kIker)"
   ]
  },
  {
   "cell_type": "markdown",
   "metadata": {},
   "source": [
    "Resulta que se cumple\n",
    "\n",
    "$$ (g^{xy} \\equiv X^y \\equiv Y^x \\equiv K \\equiv K^{'}) mod p $$"
   ]
  },
  {
   "cell_type": "markdown",
   "metadata": {},
   "source": [
    "Con lo que $ (K \\equiv K{'}) mod p = $ **102** es la clave de sesión que podemos usar Elena y yo para comunicarnos."
   ]
  },
  {
   "cell_type": "markdown",
   "metadata": {},
   "source": [
    "Como $ K $ nunca ha viajado por la red, A. Corbi no puede conocer la clave de sesión. Si quiere conocer $ K $ tiene que resolver el sistema de ecuaciones:"
   ]
  },
  {
   "cell_type": "markdown",
   "metadata": {},
   "source": [
    "![Imposible calcular](Images/Diffie-Hellman_4.png)\n",
    "![Imposible calcular-2](Images/Diffie-Hellman_5.png)"
   ]
  },
  {
   "cell_type": "markdown",
   "metadata": {},
   "source": [
    "Donde $ x, y $, son incógnitas y $ X, Y, g $ son los valores conocidos.\n",
    "\n",
    "El problema que tiene aquí el Mr. Corbi es que calcular el logaritmo discreto en aritmética modular es muy complejo, y aunque $ log(g) $ se puede conocer, $ log(X) $ y $ log(Y) $ dependen de las $ x $, $ y $ que hemos elegido Elena y yo, que en este caso serian enteros aleatorios."
   ]
  },
  {
   "cell_type": "markdown",
   "metadata": {},
   "source": [
    "### Aspectos para valorar"
   ]
  },
  {
   "cell_type": "markdown",
   "metadata": {},
   "source": [
    "Para que el algoritmo sea seguro $ p $ debe ser un número muy grande. Sin embargo, la seguridad del algoritmo no depende del tamaño de $ g $, con que $ g $ se elige como el número más pequeño que sea **raíz primitiva** respecto a $ p $."
   ]
  },
  {
   "cell_type": "markdown",
   "metadata": {},
   "source": [
    "### Tiempo de hablar"
   ]
  },
  {
   "cell_type": "markdown",
   "metadata": {},
   "source": [
    "Una vez hemos establecido una conexión segura Elena puede comunicarme el importante mensaje que quería decirme."
   ]
  },
  {
   "cell_type": "code",
   "execution_count": 7,
   "metadata": {},
   "outputs": [],
   "source": [
    "def cifrar_mensaje(mensaje: str, clave: int):\n",
    "        mensaje_cifrado = \"\"\n",
    "        key = clave\n",
    "        for c in mensaje:\n",
    "            mensaje_cifrado += chr(ord(c)+key)\n",
    "        return mensaje_cifrado"
   ]
  },
  {
   "cell_type": "code",
   "execution_count": 8,
   "metadata": {},
   "outputs": [
    {
     "data": {
      "text/plain": [
       "'®ÕÒÇ\\x86¯ÑËØ\\x92\\x86«Ò\\x86ÙËÉØËÚÕ\\x86ÓËÐÕØ\\x86ÍÛÇØÊÇÊÕ\\x86ÖÕØ\\x86ÒÕÙ\\x86ÓÇÚËÓŇÚÏÉÕÙ\\x92\\x86×ÛË\\x86ÔÕ\\x86ÙÇÈËÔ\\x86ÒÕÙ\\x86ÌœÙÏÉÕÙ\\x86ËÙ\\x94\\x94\\x94'"
      ]
     },
     "execution_count": 8,
     "metadata": {},
     "output_type": "execute_result"
    }
   ],
   "source": [
    "cifrar_mensaje(\"Hola Iker, El secreto mejor guardado por los matemáticos, que no saben los físicos es...\", 102)"
   ]
  },
  {
   "cell_type": "markdown",
   "metadata": {},
   "source": [
    "![Imposible descifrar](Images/Diffie-Hellman_6.png)"
   ]
  },
  {
   "cell_type": "markdown",
   "metadata": {},
   "source": [
    "Mientras que gracias a Diffie-Hellman yo sí tengo la llave maestra."
   ]
  },
  {
   "cell_type": "code",
   "execution_count": 9,
   "metadata": {},
   "outputs": [],
   "source": [
    "def descifrar_mensaje(mensaje: str, clave: int):\n",
    "        mensaje_descifrado = \"\"\n",
    "        key = clave\n",
    "        for c in mensaje:\n",
    "            mensaje_descifrado += chr(ord(c)-key)\n",
    "        return mensaje_descifrado"
   ]
  },
  {
   "cell_type": "code",
   "execution_count": 10,
   "metadata": {},
   "outputs": [
    {
     "data": {
      "text/plain": [
       "'Hola Iker, El secreto mejor guardado por los matemáticos, que no saben los físicos es...'"
      ]
     },
     "execution_count": 10,
     "metadata": {},
     "output_type": "execute_result"
    }
   ],
   "source": [
    "descifrar_mensaje('®ÕÒÇ\\x86¯ÑËØ\\x92\\x86«Ò\\x86ÙËÉØËÚÕ\\x86ÓËÐÕØ\\x86ÍÛÇØÊÇÊÕ\\x86ÖÕØ\\x86ÒÕÙ\\x86ÓÇÚËÓŇÚÏÉÕÙ\\x92\\x86×ÛË\\x86ÔÕ\\x86ÙÇÈËÔ\\x86ÒÕÙ\\x86ÌœÙÏÉÕÙ\\x86ËÙ\\x94\\x94\\x94', 102)"
   ]
  },
  {
   "cell_type": "markdown",
   "metadata": {},
   "source": [
    "Y así se consigue una comunicación segura."
   ]
  },
  {
   "cell_type": "markdown",
   "metadata": {},
   "source": [
    "![Secreto guardado](Images/Diffie-Hellman_7.png)"
   ]
  }
 ],
 "metadata": {
  "kernelspec": {
   "display_name": "Python 3",
   "language": "python",
   "name": "python3"
  },
  "language_info": {
   "codemirror_mode": {
    "name": "ipython",
    "version": 3
   },
   "file_extension": ".py",
   "mimetype": "text/x-python",
   "name": "python",
   "nbconvert_exporter": "python",
   "pygments_lexer": "ipython3",
   "version": "3.7.4"
  }
 },
 "nbformat": 4,
 "nbformat_minor": 2
}
